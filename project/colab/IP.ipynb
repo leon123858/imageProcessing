{
  "nbformat": 4,
  "nbformat_minor": 0,
  "metadata": {
    "colab": {
      "provenance": []
    },
    "kernelspec": {
      "name": "python3",
      "display_name": "Python 3"
    },
    "language_info": {
      "name": "python"
    },
    "gpuClass": "standard",
    "accelerator": "GPU"
  },
  "cells": [
    {
      "cell_type": "markdown",
      "source": [
        "連結雲端"
      ],
      "metadata": {
        "id": "0hGg2lXtjY07"
      }
    },
    {
      "cell_type": "code",
      "execution_count": null,
      "metadata": {
        "id": "PETzrNONiZGH"
      },
      "outputs": [],
      "source": [
        "import os\n",
        "\n",
        "from google.colab import drive\n",
        "drive.mount('/content/drive')\n",
        "path='/content/drive/My Drive/Colab_Notebooks/project'\n",
        "##進入專案目錄\n",
        "os.chdir(path) #切換該目錄\n",
        "os.listdir() #確認目錄內容"
      ]
    },
    {
      "cell_type": "markdown",
      "source": [
        "指定資料夾位置"
      ],
      "metadata": {
        "id": "zlZaKgTkiMa9"
      }
    },
    {
      "cell_type": "code",
      "source": [
        "def setDir(subPath):\n",
        "  os.chdir(path + subPath)"
      ],
      "metadata": {
        "id": "90fQIxq5i_KN"
      },
      "execution_count": 36,
      "outputs": []
    },
    {
      "cell_type": "markdown",
      "source": [
        "安裝相依"
      ],
      "metadata": {
        "id": "tOLFxgT6iTaX"
      }
    },
    {
      "cell_type": "code",
      "source": [
        "!pip install torch torchvision torchaudio --extra-index-url https://download.pytorch.org/whl/cu116\n",
        "!pip install torchfile\n",
        "!pip install opencv-python\n",
        "!pip install gdown\n",
        "!pip install --upgrade --no-cache-dir gdown"
      ],
      "metadata": {
        "id": "2QoMjp-yjftj"
      },
      "execution_count": null,
      "outputs": []
    },
    {
      "cell_type": "markdown",
      "source": [
        "下載資料"
      ],
      "metadata": {
        "id": "C3RU-aCNjW2M"
      }
    },
    {
      "cell_type": "code",
      "source": [
        "setDir('/')\n",
        "!gdown https://drive.google.com/uc?id=19f-dXPq-M00nkRZwa81V6VeZdavgbm5N\n",
        "!unzip -o IP_sampleData.zip\n",
        "!gdown https://drive.google.com/uc?id=19flUPvhE0aMrVFlqWka8dwdleumv6_us\n",
        "!unzip -o IP_models.zip"
      ],
      "metadata": {
        "id": "_EWec0LutSlx"
      },
      "execution_count": null,
      "outputs": []
    },
    {
      "cell_type": "markdown",
      "source": [
        "影片拆成 frames"
      ],
      "metadata": {
        "id": "JbYGRfeki3rV"
      }
    },
    {
      "cell_type": "code",
      "source": [
        "setDir('/libs/video2frames')\n",
        "!python video2frames.py --video_dir='../../sampleData/video_1.mp4' --cache_dir='../../cache/frames'"
      ],
      "metadata": {
        "id": "J82etgXcmtEg"
      },
      "execution_count": 39,
      "outputs": []
    },
    {
      "cell_type": "markdown",
      "source": [
        "圖片轉換\n",
        "\n",
        "*   放內容圖片的資料夾,contentPath: ../../sampleData/ \n",
        "*   放風格圖片的地方,stylePath: ../../styleImage/  \n",
        "*   取哪層,layer: r41 or r31\n",
        "*   結果放哪,outf: ../../cache/   \n",
        "*   輸出圖片像素,fineSize:1024 \n",
        "\n",
        "\n",
        "\n",
        "\n",
        "\n"
      ],
      "metadata": {
        "id": "5GJpPmvTjz1D"
      }
    },
    {
      "cell_type": "code",
      "source": [
        "setDir('/libs/style_transfer')\n",
        "!python TestArtistic.py --layer='r41' --vgg_dir='../../models/vgg_r41.pth' --decoder_dir='../../models/dec_r41.pth' --matrixPath='../../models/r41.pth' --stylePath='../../styleImage/' --contentPath='../../sampleData/' --outf='../../cache/' --fineSize='1024'"
      ],
      "metadata": {
        "id": "hNb1dbM-kHpI"
      },
      "execution_count": null,
      "outputs": []
    },
    {
      "cell_type": "markdown",
      "source": [
        "frames 轉換\n",
        "\n",
        "*   放內容圖片的資料夾,content_dir: ../../cache/frames/ \n",
        "*   放風格圖片的地方,style: ../../styleImage/in2.jpg \n",
        "*   取哪層,layer: r41 or r31\n",
        "*   結果放哪,outf: ../../cache/frames/ \n",
        "*   輸出圖片像素,fineSize:1024 \n"
      ],
      "metadata": {
        "id": "4zDSTWGAkDC2"
      }
    },
    {
      "cell_type": "code",
      "source": [
        "setDir('/libs/style_transfer')\n",
        "!python TestVideo.py --style=../../styleImage/27.jpg"
      ],
      "metadata": {
        "id": "EopEz-CNkIKD"
      },
      "execution_count": null,
      "outputs": []
    },
    {
      "cell_type": "markdown",
      "source": [
        "frames 合成影片"
      ],
      "metadata": {
        "id": "EUIsCcCejh6b"
      }
    },
    {
      "cell_type": "code",
      "source": [
        "setDir('/libs/video2frames')\n",
        "!python frames2video.py"
      ],
      "metadata": {
        "id": "H5HJ1jxki3CL"
      },
      "execution_count": 50,
      "outputs": []
    }
  ]
}